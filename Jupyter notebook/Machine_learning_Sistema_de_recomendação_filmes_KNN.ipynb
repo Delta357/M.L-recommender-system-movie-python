{
  "nbformat": 4,
  "nbformat_minor": 0,
  "metadata": {
    "colab": {
      "private_outputs": true,
      "provenance": []
    },
    "kernelspec": {
      "name": "python3",
      "display_name": "Python 3"
    },
    "language_info": {
      "name": "python"
    }
  },
  "cells": [
    {
      "cell_type": "code",
      "execution_count": null,
      "metadata": {
        "id": "Cld2KT2Edh2V"
      },
      "outputs": [],
      "source": [
        "import pandas as pd\n",
        "import numpy as np\n",
        "import matplotlib.pyplot as plt"
      ]
    },
    {
      "cell_type": "code",
      "source": [
        "# Carregando os dados\n",
        "# Certifique-se de ajustar o caminho para o arquivo 'ratings.csv'\n",
        "data = pd.read_csv('/content/ratings.csv')\n",
        "data"
      ],
      "metadata": {
        "id": "qSeU7VwYdnx0"
      },
      "execution_count": null,
      "outputs": []
    },
    {
      "cell_type": "code",
      "source": [
        "# Vamos criar uma matriz de utilidade usando a função pivot_table do pandas\n",
        "utilidade = data.pivot_table(index='userId',\n",
        "                             columns='movieId',\n",
        "                             values='rating',\n",
        "                             fill_value=0)\n",
        "utilidade"
      ],
      "metadata": {
        "id": "CV4XUA4idxZ4"
      },
      "execution_count": null,
      "outputs": []
    },
    {
      "cell_type": "code",
      "source": [
        "# Transformando a matriz de utilidade em uma matriz numpy para trabalhar com o scikit-learn\n",
        "utilidade_matrix = utilidade.to_numpy()"
      ],
      "metadata": {
        "id": "C9UZvsKMd3XX"
      },
      "execution_count": null,
      "outputs": []
    },
    {
      "cell_type": "code",
      "source": [
        "# Importando biblioteca\n",
        "from sklearn.metrics.pairwise import cosine_similarity\n",
        "\n",
        "# Calculando a similaridade do cosseno entre os usuários\n",
        "similaridade = cosine_similarity(utilidade_matrix)\n",
        "similaridade"
      ],
      "metadata": {
        "id": "gCo6c4yld5ja"
      },
      "execution_count": null,
      "outputs": []
    },
    {
      "cell_type": "code",
      "source": [
        "# Importando biblioteca\n",
        "from sklearn.neighbors import KNeighborsRegressor\n",
        "from sklearn.metrics import mean_squared_error\n",
        "from sklearn.model_selection import cross_val_score\n",
        "\n",
        "# Lista de valores de k que queremos testar\n",
        "valores_k = [3, 5, 7, 10, 15]\n",
        "\n",
        "# Vamos usar a validação cruzada para encontrar o valor ótimo de k\n",
        "scores = {}\n",
        "for k in valores_k:\n",
        "    modelo_knn = KNeighborsRegressor(n_neighbors=k, metric='cosine', algorithm='brute')\n",
        "\n",
        "    # Calculando o RMSE usando a validação cruzada\n",
        "    rmse_scores = -cross_val_score(modelo_knn, utilidade_matrix, utilidade_matrix, scoring='neg_mean_squared_error', cv=5)\n",
        "    scores[k] = np.sqrt(rmse_scores.mean())\n",
        "\n",
        "# Escolhendo o melhor valor de k com base no RMSE\n",
        "melhor_k = min(scores, key=scores.get)\n",
        "print(\"Valores de k e seus RMSE\")\n",
        "print()\n",
        "for k, rmse in scores.items():\n",
        "    print(f\"k = {k}, RMSE = {rmse}\")\n",
        "\n",
        "print()\n",
        "print(\"Melhor valor de k encontrado:\", melhor_k)\n",
        "print()"
      ],
      "metadata": {
        "id": "MfYELhoPd59F"
      },
      "execution_count": null,
      "outputs": []
    },
    {
      "cell_type": "code",
      "source": [
        "%%time\n",
        "\n",
        "# Importando biblioteca\n",
        "from sklearn.neighbors import NearestNeighbors\n",
        "\n",
        "# Modelo machine learning - KNN\n",
        "# Definindo o número de vizinhos (k) que o algoritmo K-NN usará\n",
        "k = 15\n",
        "modelo_knn = NearestNeighbors(n_neighbors=k, metric='cosine', algorithm='brute')\n",
        "modelo_knn.fit(utilidade_matrix)"
      ],
      "metadata": {
        "id": "biRfqwCid6AJ"
      },
      "execution_count": null,
      "outputs": []
    },
    {
      "cell_type": "code",
      "source": [
        "# Função para fazer as recomendações para um usuário específico\n",
        "def fazer_recomendacoes(usuario_id, num_recomendacoes=5):\n",
        "    if usuario_id >= utilidade_matrix.shape[0]:\n",
        "        print(f\"Usuário de ID {usuario_id} não encontrado nos dados.\")\n",
        "        return []\n",
        "\n",
        "    usuario_interacoes = utilidade_matrix[usuario_id].reshape(1, -1)\n",
        "\n",
        "    # Encontrando os k vizinhos mais próximos\n",
        "    distancias, indices_vizinhos = modelo_knn.kneighbors(usuario_interacoes)\n",
        "\n",
        "    # Verificando se há vizinhos suficientes para fazer recomendações\n",
        "    if len(indices_vizinhos[0]) < k:\n",
        "        print(\"Não há vizinhos suficientes para fazer recomendações.\")\n",
        "        return []\n",
        "\n",
        "    # Recomendando filmes com base nos vizinhos mais próximos\n",
        "    filmes_recomendados = []\n",
        "    for indice_vizinho in indices_vizinhos[0]:\n",
        "        filmes_recomendados.extend(np.where(utilidade_matrix[indice_vizinho] > 0)[0])\n",
        "\n",
        "    # Removendo filmes já interagidos pelo usuário\n",
        "    filmes_recomendados = set(filmes_recomendados) - set(np.where(utilidade_matrix[usuario_id] > 0)[0])\n",
        "\n",
        "    # Classificando os filmes recomendados com base na média das avaliações dos vizinhos\n",
        "    filmes_recomendados = list(filmes_recomendados)\n",
        "    filmes_recomendados.sort(key=lambda x: np.mean(utilidade_matrix[indices_vizinhos[:, 1]][:, x]), reverse=True)\n",
        "\n",
        "    return filmes_recomendados[:num_recomendacoes]"
      ],
      "metadata": {
        "id": "JHHi-t2-fIHE"
      },
      "execution_count": null,
      "outputs": []
    },
    {
      "cell_type": "code",
      "source": [
        "# Fazendo recomendações para o usuário de id 0\n",
        "usuario_id_alvo = 3\n",
        "recomendacoes = fazer_recomendacoes(usuario_id_alvo)\n",
        "\n",
        "if len(recomendacoes) > 0:\n",
        "    # Obtendo os títulos dos filmes recomendados\n",
        "    filmes = pd.read_csv('/content/movies.csv')  # Certifique-se de ajustar o caminho para o arquivo 'movies.csv'\n",
        "    titulos_recomendados = filmes[filmes['movieId'].isin(recomendacoes)]['title'].tolist()\n",
        "\n",
        "    print(\"Filmes recomendados para o usuário de id\", usuario_id_alvo, \"são:\")\n",
        "    print()\n",
        "    for titulo in titulos_recomendados:\n",
        "        print(titulo)"
      ],
      "metadata": {
        "id": "aHepPvJLfINU"
      },
      "execution_count": null,
      "outputs": []
    },
    {
      "cell_type": "code",
      "source": [],
      "metadata": {
        "id": "INZvIsN3fIQV"
      },
      "execution_count": null,
      "outputs": []
    },
    {
      "cell_type": "code",
      "source": [],
      "metadata": {
        "id": "sHnzwXiufITQ"
      },
      "execution_count": null,
      "outputs": []
    },
    {
      "cell_type": "code",
      "source": [],
      "metadata": {
        "id": "fj9WzjG5fIWL"
      },
      "execution_count": null,
      "outputs": []
    },
    {
      "cell_type": "code",
      "source": [],
      "metadata": {
        "id": "jkJFNUGud6C0"
      },
      "execution_count": null,
      "outputs": []
    }
  ]
}